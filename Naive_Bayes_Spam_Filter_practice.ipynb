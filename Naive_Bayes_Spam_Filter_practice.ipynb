{
  "nbformat": 4,
  "nbformat_minor": 0,
  "metadata": {
    "colab": {
      "name": "Naive Bayes Spam Filter *practice",
      "version": "0.3.2",
      "provenance": [],
      "include_colab_link": true
    },
    "kernelspec": {
      "name": "python3",
      "display_name": "Python 3"
    }
  },
  "cells": [
    {
      "cell_type": "markdown",
      "metadata": {
        "id": "view-in-github",
        "colab_type": "text"
      },
      "source": [
        "<a href=\"https://colab.research.google.com/github/zdwhite/Thinkful-Unit-2/blob/master/Naive_Bayes_Spam_Filter_practice.ipynb\" target=\"_parent\"><img src=\"https://colab.research.google.com/assets/colab-badge.svg\" alt=\"Open In Colab\"/></a>"
      ]
    },
    {
      "metadata": {
        "id": "gcSpgxcLUhJv",
        "colab_type": "code",
        "colab": {}
      },
      "cell_type": "code",
      "source": [
        "%matplotlib inline\n",
        "import numpy as np\n",
        "import pandas as pd\n",
        "import scipy\n",
        "import sklearn\n",
        "import matplotlib.pyplot as plt\n",
        "import seaborn as sns"
      ],
      "execution_count": 0,
      "outputs": []
    },
    {
      "metadata": {
        "id": "57fnW8HPUm26",
        "colab_type": "code",
        "colab": {}
      },
      "cell_type": "code",
      "source": [
        "# Grab and process the raw data.\n",
        "data_path = (\"https://raw.githubusercontent.com/Thinkful-Ed/data-201-resources/\"\n",
        "             \"master/sms_spam_collection/SMSSpamCollection\"\n",
        "            )\n",
        "sms_raw = pd.read_csv(data_path, delimiter= '\\t', header=None)\n",
        "sms_raw.columns = ['spam', 'message']"
      ],
      "execution_count": 0,
      "outputs": []
    },
    {
      "metadata": {
        "id": "a9ZSzC96XeOf",
        "colab_type": "code",
        "colab": {}
      },
      "cell_type": "code",
      "source": [
        ""
      ],
      "execution_count": 0,
      "outputs": []
    },
    {
      "metadata": {
        "id": "-R-MxOqsU0M5",
        "colab_type": "code",
        "colab": {}
      },
      "cell_type": "code",
      "source": [
        "sms_raw['allcaps'] = sms_raw.message.str.isupper()\n",
        "\n",
        "sms_raw['message']=sms_raw.message.str.lower()"
      ],
      "execution_count": 0,
      "outputs": []
    },
    {
      "metadata": {
        "id": "iwP2YbLVUorT",
        "colab_type": "code",
        "colab": {}
      },
      "cell_type": "code",
      "source": [
        "keywords = ['click', 'offer', 'winner', 'buy', 'free', 'cash', 'urgent','private','win','reward','quiz','claim']\n",
        "\n",
        "for key in keywords:\n",
        "    # Note that we add spaces around the key so that we're getting the word,\n",
        "    # not just pattern matching.\n",
        "    sms_raw[str(key)] = sms_raw.message.str.contains(\n",
        "        ' ' + str(key) + ' ',\n",
        "        case=False\n",
        "    )"
      ],
      "execution_count": 0,
      "outputs": []
    },
    {
      "metadata": {
        "id": "TcxmdU-zU-Xt",
        "colab_type": "code",
        "colab": {}
      },
      "cell_type": "code",
      "source": [
        "sms_raw['spam'] = (sms_raw['spam'] == 'spam')\n",
        "# Note that if you run this cell a second time everything will become false.\n",
        "# So... Don't."
      ],
      "execution_count": 0,
      "outputs": []
    },
    {
      "metadata": {
        "id": "tvBaCqxAVBuK",
        "colab_type": "code",
        "outputId": "302d8040-eead-4593-a5ac-091397302c23",
        "colab": {
          "base_uri": "https://localhost:8080/",
          "height": 305
        }
      },
      "cell_type": "code",
      "source": [
        "sns.heatmap(sms_raw.corr())\n",
        "\n",
        "# At this point if there were any words that showed high correlation to one another\n",
        "# They could possibly be combined with PCA"
      ],
      "execution_count": 0,
      "outputs": [
        {
          "output_type": "execute_result",
          "data": {
            "text/plain": [
              "<matplotlib.axes._subplots.AxesSubplot at 0x7fd0439e6be0>"
            ]
          },
          "metadata": {
            "tags": []
          },
          "execution_count": 7
        },
        {
          "output_type": "display_data",
          "data": {
            "image/png": "[encoded data removed]",
            "text/plain": [
              "<matplotlib.figure.Figure at 0x7fd0439d3c88>"
            ]
          },
          "metadata": {
            "tags": []
          }
        }
      ]
    },
    {
      "metadata": {
        "id": "UJeRM-gQVFOU",
        "colab_type": "code",
        "colab": {}
      },
      "cell_type": "code",
      "source": [
        "data = sms_raw[keywords + ['allcaps']]\n",
        "target = sms_raw['spam']\n",
        "\n",
        "data"
      ],
      "execution_count": 0,
      "outputs": []
    },
    {
      "metadata": {
        "id": "MG34TGnZVb4w",
        "colab_type": "code",
        "outputId": "30a0c536-04e6-499b-adc1-2e79ddddc4df",
        "colab": {
          "base_uri": "https://localhost:8080/",
          "height": 35
        }
      },
      "cell_type": "code",
      "source": [
        "# Our data is binary / boolean, so we're importing the Bernoulli classifier.\n",
        "from sklearn.naive_bayes import BernoulliNB\n",
        "\n",
        "# Instantiate our model and store it in a new variable.\n",
        "bnb = BernoulliNB()\n",
        "\n",
        "# Fit our model to the data.\n",
        "bnb.fit(data, target)\n",
        "\n",
        "# Classify, storing the result in a new variable.\n",
        "y_pred = bnb.predict(data)\n",
        "\n",
        "# Display our results.\n",
        "print(\"Number of mislabeled points out of a total {} points : {}\".format(\n",
        "    data.shape[0],\n",
        "    (target != y_pred).sum()\n",
        "))"
      ],
      "execution_count": 0,
      "outputs": [
        {
          "output_type": "stream",
          "text": [
            "Number of mislabeled points out of a total 5572 points : 499\n"
          ],
          "name": "stdout"
        }
      ]
    },
    {
      "metadata": {
        "id": "r7zLGkJ-Vjn7",
        "colab_type": "code",
        "colab": {}
      },
      "cell_type": "code",
      "source": [
        "#sms_raw\n",
        "sms_raw[sms_raw['spam']==True]"
      ],
      "execution_count": 0,
      "outputs": []
    },
    {
      "metadata": {
        "id": "t0lncEcebSOp",
        "colab_type": "code",
        "outputId": "7dd5c7f2-9e28-4541-bf45-936af461e8ac",
        "colab": {
          "base_uri": "https://localhost:8080/",
          "height": 126
        }
      },
      "cell_type": "code",
      "source": [
        "#let's come up with some better feature words for our classifier\n",
        "#First by doing a simple frequency count of the words that are in spam messages\n",
        "# Second do a frequency count of words that are ham\n",
        "\n",
        "#then we'll over lap the distributions and see what key words create too many false positives\n",
        "\n",
        "spam = sms_raw[sms_raw['spam']==True]['message'].apply(lambda x:x.split())\n",
        "\n",
        "ham  = sms_raw[sms_raw['spam']!=True]['message'].apply(lambda x:x.split())\n",
        "\n",
        "ham.head()"
      ],
      "execution_count": 0,
      "outputs": [
        {
          "output_type": "execute_result",
          "data": {
            "text/plain": [
              "0    [go, until, jurong, point,, crazy.., available...\n",
              "1                 [ok, lar..., joking, wif, u, oni...]\n",
              "3    [u, dun, say, so, early, hor..., u, c, already...\n",
              "4    [nah, i, don't, think, he, goes, to, usf,, he,...\n",
              "6    [even, my, brother, is, not, like, to, speak, ...\n",
              "Name: message, dtype: object"
            ]
          },
          "metadata": {
            "tags": []
          },
          "execution_count": 151
        }
      ]
    },
    {
      "metadata": {
        "id": "R2e4b1_Ydvzt",
        "colab_type": "code",
        "outputId": "ab65e23c-57c3-4521-da77-ba1f895f66b6",
        "colab": {
          "base_uri": "https://localhost:8080/",
          "height": 145
        }
      },
      "cell_type": "code",
      "source": [
        "spam=pd.DataFrame(spam)\n",
        "\n",
        "\n",
        "spam = spam.apply(lambda x: pd.Series(x['message']),axis=1).stack().reset_index(level=1, drop=True).reset_index()\n",
        "spam.columns=['Index','Words']\n",
        "spam.info()"
      ],
      "execution_count": 0,
      "outputs": [
        {
          "output_type": "stream",
          "text": [
            "<class 'pandas.core.frame.DataFrame'>\n",
            "RangeIndex: 17862 entries, 0 to 17861\n",
            "Data columns (total 2 columns):\n",
            "Index    17862 non-null int64\n",
            "Words    17862 non-null object\n",
            "dtypes: int64(1), object(1)\n",
            "memory usage: 279.2+ KB\n"
          ],
          "name": "stdout"
        }
      ]
    },
    {
      "metadata": {
        "id": "gf6wobKlhlq3",
        "colab_type": "code",
        "colab": {}
      },
      "cell_type": "code",
      "source": [
        "\n",
        "spam['Words'].value_counts()\n",
        "\n",
        "#'claim' is high on the list of keywords not used in our feature list.\n"
      ],
      "execution_count": 0,
      "outputs": []
    },
    {
      "metadata": {
        "id": "xl5I7Kng_g9t",
        "colab_type": "code",
        "colab": {}
      },
      "cell_type": "code",
      "source": [
        "# Grab and process the raw data.\n",
        "data_path = (\"https://raw.githubusercontent.com/Thinkful-Ed/data-201-resources/\"\n",
        "             \"master/sms_spam_collection/SMSSpamCollection\"\n",
        "            )\n",
        "sms_raw = pd.read_csv(data_path, delimiter= '\\t', header=None)\n",
        "sms_raw.columns = ['spam', 'message']\n",
        "\n",
        "# Enumerate our spammy keywords.\n",
        "keywords = ['click', 'offer', 'winner', 'buy', 'free', 'cash', 'urgent']\n",
        "\n",
        "for key in keywords:\n",
        "    sms_raw[str(key)] = sms_raw.message.str.contains(\n",
        "        ' ' + str(key) + ' ',\n",
        "        case=False\n",
        ")\n",
        "\n",
        "sms_raw['allcaps'] = sms_raw.message.str.isupper()\n",
        "sms_raw['spam'] = (sms_raw['spam'] == 'spam')\n",
        "data = sms_raw[keywords + ['allcaps']]\n",
        "target = sms_raw['spam']\n",
        "\n",
        "from sklearn.naive_bayes import BernoulliNB\n",
        "bnb = BernoulliNB()\n",
        "y_pred = bnb.fit(data, target).predict(data)"
      ],
      "execution_count": 0,
      "outputs": []
    },
    {
      "metadata": {
        "id": "qTWiS1AXx-bm",
        "colab_type": "code",
        "colab": {}
      },
      "cell_type": "code",
      "source": [
        "target"
      ],
      "execution_count": 0,
      "outputs": []
    },
    {
      "metadata": {
        "id": "n_oBabjC_hsv",
        "colab_type": "code",
        "colab": {
          "base_uri": "https://localhost:8080/",
          "height": 54
        },
        "outputId": "02c9aa89-cb24-43d7-9b6d-2d72445bdcee"
      },
      "cell_type": "code",
      "source": [
        "# Test your model with different holdout groups.\n",
        "\n",
        "from sklearn.model_selection import train_test_split\n",
        "# Use train_test_split to create the necessary training and test groups\n",
        "X_train, X_test, y_train, y_test = train_test_split(data, target, test_size=0.2, random_state=20)\n",
        "print('With 20% Holdout: ' + str(bnb.fit(X_train, y_train).score(X_test, y_test)))\n",
        "print('Testing on Sample: ' + str(bnb.fit(data, target).score(data, target)))"
      ],
      "execution_count": 56,
      "outputs": [
        {
          "output_type": "stream",
          "text": [
            "With 20% Holdout: 0.884304932735426\n",
            "Testing on Sample: 0.8916008614501076\n"
          ],
          "name": "stdout"
        }
      ]
    },
    {
      "metadata": {
        "id": "Evylo3RJ_l2y",
        "colab_type": "code",
        "colab": {
          "base_uri": "https://localhost:8080/",
          "height": 54
        },
        "outputId": "74878a70-6816-45ca-848f-b1589e9d5afa"
      },
      "cell_type": "code",
      "source": [
        "from sklearn.model_selection import cross_val_score\n",
        "cross_val_score(bnb, data, target, cv=10)"
      ],
      "execution_count": 57,
      "outputs": [
        {
          "output_type": "execute_result",
          "data": {
            "text/plain": [
              "array([0.89784946, 0.89426523, 0.89426523, 0.890681  , 0.89605735,\n",
              "       0.89048474, 0.88150808, 0.89028777, 0.88489209, 0.89568345])"
            ]
          },
          "metadata": {
            "tags": []
          },
          "execution_count": 57
        }
      ]
    },
    {
      "metadata": {
        "id": "VYviLN_R_qhu",
        "colab_type": "code",
        "colab": {}
      },
      "cell_type": "code",
      "source": [
        "# Implement your own cross validation with your spam model.\n",
        "\n",
        "#define a function that takes in 4 variables\n",
        "# model type\n",
        "# data set\n",
        "# answer key\n",
        "# number of  \"folds\"\n",
        "\n",
        "#Returns\n",
        "#an array of accuracy equal in length to the number of folds\n",
        "\n",
        "#dir(sklearn.naive_bayes)\n",
        "\n",
        "def cross_val(model, data, folds):\n",
        "  import sklearn.naive_bayes\n",
        "  accuracy = []\n",
        "  \n",
        "  sample_size = round((len(data)/folds))\n",
        " \n",
        "  test_fold=data\n",
        "  \n",
        "  while len(test_fold) > sample_size :\n",
        "  #create sample to model\n",
        "    test_sample = test_fold.sample(sample_size)\n",
        "  #drop the sample from the set so it can't be resampled\n",
        "    test_fold=test_fold.drop(test_sample.index)\n",
        "    \n",
        "    test_data=test_sample[keywords + ['allcaps']]\n",
        "    test_target=test_sample['spam']\n",
        "  \n",
        "    score = model.fit(test_data,test_target).score(test_data,test_target)\n",
        "    accuracy.append(score)\n",
        "  return accuracy\n",
        "  #make n samples of the data variable\n",
        "  ## Where n = folds\n",
        "  #run each fold through the given model\n",
        "  #aggregate results and return an array\n",
        "  \n",
        "  "
      ],
      "execution_count": 0,
      "outputs": []
    },
    {
      "metadata": {
        "id": "by2xm207ASsc",
        "colab_type": "code",
        "colab": {
          "base_uri": "https://localhost:8080/",
          "height": 199
        },
        "outputId": "ba59c333-bb69-43c4-ccb6-20d88a82f0a1"
      },
      "cell_type": "code",
      "source": [
        "\n",
        "cross_val(bnb,sms_raw, folds=10)"
      ],
      "execution_count": 125,
      "outputs": [
        {
          "output_type": "execute_result",
          "data": {
            "text/plain": [
              "[0.9066427289048474,\n",
              " 0.8689407540394973,\n",
              " 0.9102333931777379,\n",
              " 0.8797127468581688,\n",
              " 0.9048473967684022,\n",
              " 0.8761220825852782,\n",
              " 0.9066427289048474,\n",
              " 0.8850987432675045,\n",
              " 0.9012567324955116,\n",
              " 0.8868940754039497]"
            ]
          },
          "metadata": {
            "tags": []
          },
          "execution_count": 125
        }
      ]
    },
    {
      "metadata": {
        "id": "CrHa74FJBaqm",
        "colab_type": "code",
        "colab": {
          "base_uri": "https://localhost:8080/",
          "height": 35
        },
        "outputId": "bf7f43a1-c869-4e18-97b0-44e93ddd9b32"
      },
      "cell_type": "code",
      "source": [
        "def cross_val(model, data, folds):\n",
        "  import sklearn.naive_bayes\n",
        "  accuracy = []\n",
        "  sample_size = round((len(data)/folds))\n",
        "  test_fold=data\n",
        "  test_sample = test_fold.sample(sample_size)\n",
        "  \n",
        "  test_fold=test_fold.drop(test_sample.index)\n",
        "  \n",
        "  test_data=test_sample[keywords + ['allcaps']]\n",
        "  test_target=test_sample['spam']\n",
        "  \n",
        "  score = model.fit(test_data,test_target).score(test_data,test_target)\n",
        "  accuracy.append(score)\n",
        "  return accuracy \n",
        "  \n",
        "  #return model.fit(test_data,test_target).score(test_data,test_target)\n",
        "  #return len(test_sample), len(test_fold) , len(data)\n",
        "  #return test_data.head(), test_target.head()\n",
        "\n",
        "cross_val(bnb,sms_raw, folds=10)"
      ],
      "execution_count": 123,
      "outputs": [
        {
          "output_type": "execute_result",
          "data": {
            "text/plain": [
              "[0.8886894075403949]"
            ]
          },
          "metadata": {
            "tags": []
          },
          "execution_count": 123
        }
      ]
    },
    {
      "metadata": {
        "id": "_jfiz-r5ATnS",
        "colab_type": "code",
        "colab": {
          "base_uri": "https://localhost:8080/",
          "height": 35
        },
        "outputId": "030d3a6e-e736-4555-b6f7-5e60e8cbeea2"
      },
      "cell_type": "code",
      "source": [
        "\n",
        "test_fold=sms_raw\n",
        "test_sample = test_fold.sample(round((len(test)/folds)))\n",
        "test_fold=test_fold.drop(test_sample.index)\n",
        "test_data=test_sample[keywords + ['allcaps']]\n",
        "test_target=test_sample['spam']\n",
        "  \n",
        "score = bnb.fit(test_data,test_target).score(test_data,test_target)\n",
        "\n"
      ],
      "execution_count": 79,
      "outputs": [
        {
          "output_type": "execute_result",
          "data": {
            "text/plain": [
              "0.8"
            ]
          },
          "metadata": {
            "tags": []
          },
          "execution_count": 79
        }
      ]
    },
    {
      "metadata": {
        "id": "7IJVw86uN07k",
        "colab_type": "code",
        "colab": {
          "base_uri": "https://localhost:8080/",
          "height": 181
        },
        "outputId": "56aba5b3-e25f-41ac-9e36-fd34561a8330"
      },
      "cell_type": "code",
      "source": [
        "folds = 4\n",
        "\n",
        "test = pd.Series(np.arange(0,120,1))\n",
        "test_fold=test\n",
        "while len(test_fold) > round((len(test)/folds)):\n",
        "  test_sample = test_fold.sample(round((len(test)/folds)))\n",
        "  test_fold=test_fold.drop(test_sample.index)\n",
        "  print((len(test)/folds)/100)\n",
        "  print(len(test_sample))\n",
        "  \n",
        "  print(len(test_sample))"
      ],
      "execution_count": 52,
      "outputs": [
        {
          "output_type": "stream",
          "text": [
            "0.3\n",
            "30\n",
            "30\n",
            "0.3\n",
            "30\n",
            "30\n",
            "0.3\n",
            "30\n",
            "30\n"
          ],
          "name": "stdout"
        }
      ]
    },
    {
      "metadata": {
        "id": "748CcAzVAg9B",
        "colab_type": "code",
        "colab": {}
      },
      "cell_type": "code",
      "source": [
        "data"
      ],
      "execution_count": 0,
      "outputs": []
    },
    {
      "metadata": {
        "id": "6LTZDz1zHNxd",
        "colab_type": "code",
        "colab": {
          "base_uri": "https://localhost:8080/",
          "height": 35
        },
        "outputId": "07440c15-522d-4556-b087-027ff6b7a31e"
      },
      "cell_type": "code",
      "source": [
        "print (len(data))"
      ],
      "execution_count": 53,
      "outputs": [
        {
          "output_type": "stream",
          "text": [
            "5572\n"
          ],
          "name": "stdout"
        }
      ]
    },
    {
      "metadata": {
        "id": "PLPWztaEOaGF",
        "colab_type": "code",
        "colab": {}
      },
      "cell_type": "code",
      "source": [
        ""
      ],
      "execution_count": 0,
      "outputs": []
    }
  ]
}