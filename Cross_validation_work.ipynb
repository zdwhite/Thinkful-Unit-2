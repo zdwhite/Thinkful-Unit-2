{
  "nbformat": 4,
  "nbformat_minor": 0,
  "metadata": {
    "colab": {
      "name": "Cross validation work",
      "version": "0.3.2",
      "provenance": [],
      "include_colab_link": true
    },
    "kernelspec": {
      "name": "python3",
      "display_name": "Python 3"
    }
  },
  "cells": [
    {
      "cell_type": "markdown",
      "metadata": {
        "id": "view-in-github",
        "colab_type": "text"
      },
      "source": [
        "<a href=\"https://colab.research.google.com/github/zdwhite/Thinkful-Unit-2/blob/master/Cross_validation_work.ipynb\" target=\"_parent\"><img src=\"https://colab.research.google.com/assets/colab-badge.svg\" alt=\"Open In Colab\"/></a>"
      ]
    },
    {
      "metadata": {
        "id": "xl5I7Kng_g9t",
        "colab_type": "code",
        "colab": {}
      },
      "cell_type": "code",
      "source": [
        "# Grab and process the raw data.\n",
        "data_path = (\"https://raw.githubusercontent.com/Thinkful-Ed/data-201-resources/\"\n",
        "             \"master/sms_spam_collection/SMSSpamCollection\"\n",
        "            )\n",
        "sms_raw = pd.read_csv(data_path, delimiter= '\\t', header=None)\n",
        "sms_raw.columns = ['spam', 'message']\n",
        "\n",
        "# Enumerate our spammy keywords.\n",
        "keywords = ['click', 'offer', 'winner', 'buy', 'free', 'cash', 'urgent']\n",
        "\n",
        "for key in keywords:\n",
        "    sms_raw[str(key)] = sms_raw.message.str.contains(\n",
        "        ' ' + str(key) + ' ',\n",
        "        case=False\n",
        ")\n",
        "\n",
        "sms_raw['allcaps'] = sms_raw.message.str.isupper()\n",
        "sms_raw['spam'] = (sms_raw['spam'] == 'spam')\n",
        "data = sms_raw[keywords + ['allcaps']]\n",
        "target = sms_raw['spam']\n",
        "\n",
        "from sklearn.naive_bayes import BernoulliNB\n",
        "bnb = BernoulliNB()\n",
        "y_pred = bnb.fit(data, target).predict(data)"
      ],
      "execution_count": 0,
      "outputs": []
    },
    {
      "metadata": {
        "id": "qTWiS1AXx-bm",
        "colab_type": "code",
        "colab": {}
      },
      "cell_type": "code",
      "source": [
        "target"
      ],
      "execution_count": 0,
      "outputs": []
    },
    {
      "metadata": {
        "id": "n_oBabjC_hsv",
        "colab_type": "code",
        "outputId": "02c9aa89-cb24-43d7-9b6d-2d72445bdcee",
        "colab": {
          "base_uri": "https://localhost:8080/",
          "height": 54
        }
      },
      "cell_type": "code",
      "source": [
        "# Test your model with different holdout groups.\n",
        "\n",
        "from sklearn.model_selection import train_test_split\n",
        "# Use train_test_split to create the necessary training and test groups\n",
        "X_train, X_test, y_train, y_test = train_test_split(data, target, test_size=0.2, random_state=20)\n",
        "print('With 20% Holdout: ' + str(bnb.fit(X_train, y_train).score(X_test, y_test)))\n",
        "print('Testing on Sample: ' + str(bnb.fit(data, target).score(data, target)))"
      ],
      "execution_count": 0,
      "outputs": [
        {
          "output_type": "stream",
          "text": [
            "With 20% Holdout: 0.884304932735426\n",
            "Testing on Sample: 0.8916008614501076\n"
          ],
          "name": "stdout"
        }
      ]
    },
    {
      "metadata": {
        "id": "Evylo3RJ_l2y",
        "colab_type": "code",
        "outputId": "74878a70-6816-45ca-848f-b1589e9d5afa",
        "colab": {
          "base_uri": "https://localhost:8080/",
          "height": 54
        }
      },
      "cell_type": "code",
      "source": [
        "from sklearn.model_selection import cross_val_score\n",
        "cross_val_score(bnb, data, target, cv=10)"
      ],
      "execution_count": 0,
      "outputs": [
        {
          "output_type": "execute_result",
          "data": {
            "text/plain": [
              "array([0.89784946, 0.89426523, 0.89426523, 0.890681  , 0.89605735,\n",
              "       0.89048474, 0.88150808, 0.89028777, 0.88489209, 0.89568345])"
            ]
          },
          "metadata": {
            "tags": []
          },
          "execution_count": 57
        }
      ]
    },
    {
      "metadata": {
        "id": "VYviLN_R_qhu",
        "colab_type": "code",
        "colab": {}
      },
      "cell_type": "code",
      "source": [
        "# Implement your own cross validation with your spam model.\n",
        "\n",
        "#define a function that takes in 4 variables\n",
        "# model type\n",
        "# data set\n",
        "# answer key\n",
        "# number of  \"folds\"\n",
        "\n",
        "#Returns\n",
        "#an array of accuracy equal in length to the number of folds\n",
        "\n",
        "#dir(sklearn.naive_bayes)\n",
        "\n",
        "def cross_val(model, data, folds):\n",
        "  import sklearn.naive_bayes\n",
        "  accuracy = []\n",
        "  \n",
        "  sample_size = round((len(data)/folds))\n",
        " \n",
        "  test_fold=data\n",
        "  \n",
        "  while len(test_fold) > sample_size :\n",
        "  #create sample to model\n",
        "    test_sample = test_fold.sample(sample_size)\n",
        "  #drop the sample from the set so it can't be resampled\n",
        "    test_fold=test_fold.drop(test_sample.index)\n",
        "    \n",
        "    test_data=test_sample[keywords + ['allcaps']]\n",
        "    test_target=test_sample['spam']\n",
        "  \n",
        "    score = model.fit(test_data,test_target).score(test_data,test_target)\n",
        "    accuracy.append(score)\n",
        "  return accuracy\n",
        "  #make n samples of the data variable\n",
        "  ## Where n = folds\n",
        "  #run each fold through the given model\n",
        "  #aggregate results and return an array\n",
        "  \n",
        "  "
      ],
      "execution_count": 0,
      "outputs": []
    },
    {
      "metadata": {
        "id": "by2xm207ASsc",
        "colab_type": "code",
        "outputId": "ba59c333-bb69-43c4-ccb6-20d88a82f0a1",
        "colab": {
          "base_uri": "https://localhost:8080/",
          "height": 199
        }
      },
      "cell_type": "code",
      "source": [
        "\n",
        "cross_val(bnb,sms_raw, folds=10)"
      ],
      "execution_count": 0,
      "outputs": [
        {
          "output_type": "execute_result",
          "data": {
            "text/plain": [
              "[0.9066427289048474,\n",
              " 0.8689407540394973,\n",
              " 0.9102333931777379,\n",
              " 0.8797127468581688,\n",
              " 0.9048473967684022,\n",
              " 0.8761220825852782,\n",
              " 0.9066427289048474,\n",
              " 0.8850987432675045,\n",
              " 0.9012567324955116,\n",
              " 0.8868940754039497]"
            ]
          },
          "metadata": {
            "tags": []
          },
          "execution_count": 125
        }
      ]
    }
  ]
}