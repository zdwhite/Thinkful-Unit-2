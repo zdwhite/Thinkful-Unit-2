{
  "nbformat": 4,
  "nbformat_minor": 0,
  "metadata": {
    "colab": {
      "name": "Cross validation work",
      "version": "0.3.2",
      "provenance": [],
      "include_colab_link": true
    },
    "kernelspec": {
      "name": "python3",
      "display_name": "Python 3"
    }
  },
  "cells": [
    {
      "cell_type": "markdown",
      "metadata": {
        "id": "view-in-github",
        "colab_type": "text"
      },
      "source": [
        "<a href=\"https://colab.research.google.com/github/zdwhite/Thinkful-Unit-2/blob/master/Cross_validation_work.ipynb\" target=\"_parent\"><img src=\"https://colab.research.google.com/assets/colab-badge.svg\" alt=\"Open In Colab\"/></a>"
      ]
    },
    {
      "metadata": {
        "id": "UZKiZ25ELHab",
        "colab_type": "code",
        "colab": {}
      },
      "cell_type": "code",
      "source": [
        "%matplotlib inline\n",
        "import numpy as np\n",
        "import pandas as pd\n",
        "import scipy\n",
        "import sklearn\n",
        "import matplotlib.pyplot as plt\n",
        "import seaborn as sns"
      ],
      "execution_count": 0,
      "outputs": []
    },
    {
      "metadata": {
        "id": "xl5I7Kng_g9t",
        "colab_type": "code",
        "colab": {}
      },
      "cell_type": "code",
      "source": [
        "# Grab and process the raw data.\n",
        "data_path = (\"https://raw.githubusercontent.com/Thinkful-Ed/data-201-resources/\"\n",
        "             \"master/sms_spam_collection/SMSSpamCollection\"\n",
        "            )\n",
        "sms_raw = pd.read_csv(data_path, delimiter= '\\t', header=None)\n",
        "sms_raw.columns = ['spam', 'message']\n",
        "\n",
        "# Enumerate our spammy keywords.\n",
        "keywords = ['click', 'offer', 'winner', 'buy', 'free', 'cash', 'urgent']\n",
        "\n",
        "for key in keywords:\n",
        "    sms_raw[str(key)] = sms_raw.message.str.contains(\n",
        "        ' ' + str(key) + ' ',\n",
        "        case=False\n",
        ")\n",
        "\n",
        "sms_raw['allcaps'] = sms_raw.message.str.isupper()\n",
        "sms_raw['spam'] = (sms_raw['spam'] == 'spam')\n",
        "data = sms_raw[keywords + ['allcaps']]\n",
        "target = sms_raw['spam']\n",
        "\n",
        "from sklearn.naive_bayes import BernoulliNB\n",
        "bnb = BernoulliNB()\n",
        "y_pred = bnb.fit(data, target).predict(data)"
      ],
      "execution_count": 0,
      "outputs": []
    },
    {
      "metadata": {
        "id": "qTWiS1AXx-bm",
        "colab_type": "code",
        "colab": {
          "base_uri": "https://localhost:8080/",
          "height": 35
        },
        "outputId": "c686aa6a-4616-4d97-b05d-f5b821f74f9f"
      },
      "cell_type": "code",
      "source": [
        "y_pred"
      ],
      "execution_count": 7,
      "outputs": [
        {
          "output_type": "execute_result",
          "data": {
            "text/plain": [
              "array([False, False, False, ..., False, False, False])"
            ]
          },
          "metadata": {
            "tags": []
          },
          "execution_count": 7
        }
      ]
    },
    {
      "metadata": {
        "id": "n_oBabjC_hsv",
        "colab_type": "code",
        "outputId": "47646174-89f5-4faf-afe0-6cc084334963",
        "colab": {
          "base_uri": "https://localhost:8080/",
          "height": 54
        }
      },
      "cell_type": "code",
      "source": [
        "# Test your model with different holdout groups.\n",
        "\n",
        "from sklearn.model_selection import train_test_split\n",
        "# Use train_test_split to create the necessary training and test groups\n",
        "X_train, X_test, y_train, y_test = train_test_split(data, target, test_size=0.2, random_state=20)\n",
        "print('With 20% Holdout: ' + str(bnb.fit(X_train, y_train).score(X_test, y_test)))\n",
        "print('Testing on Sample: ' + str(bnb.fit(data, target).score(data, target)))"
      ],
      "execution_count": 8,
      "outputs": [
        {
          "output_type": "stream",
          "text": [
            "With 20% Holdout: 0.884304932735426\n",
            "Testing on Sample: 0.8916008614501076\n"
          ],
          "name": "stdout"
        }
      ]
    },
    {
      "metadata": {
        "id": "Evylo3RJ_l2y",
        "colab_type": "code",
        "outputId": "b970b4d0-833d-478f-cef6-8c08eed73169",
        "colab": {
          "base_uri": "https://localhost:8080/",
          "height": 54
        }
      },
      "cell_type": "code",
      "source": [
        "from sklearn.model_selection import cross_val_score\n",
        "cross_val_score(bnb, data, target, cv=10)"
      ],
      "execution_count": 9,
      "outputs": [
        {
          "output_type": "execute_result",
          "data": {
            "text/plain": [
              "array([0.89784946, 0.89426523, 0.89426523, 0.890681  , 0.89605735,\n",
              "       0.89048474, 0.88150808, 0.89028777, 0.88489209, 0.89568345])"
            ]
          },
          "metadata": {
            "tags": []
          },
          "execution_count": 9
        }
      ]
    },
    {
      "metadata": {
        "id": "VYviLN_R_qhu",
        "colab_type": "code",
        "colab": {}
      },
      "cell_type": "code",
      "source": [
        "# Implement your own cross validation with your spam model.\n",
        "\n",
        "#define a function that takes in 4 variables\n",
        "# model type\n",
        "# data set\n",
        "# answer key\n",
        "# number of  \"folds\"\n",
        "\n",
        "#Returns\n",
        "#an array of accuracy equal in length to the number of folds\n",
        "\n",
        "#dir(sklearn.naive_bayes)\n",
        "\n",
        "def cross_val(model, data, folds):\n",
        "  import sklearn.naive_bayes\n",
        "  from sklearn.metrics import confusion_matrix\n",
        "  accuracy = []\n",
        "  sample_size = round((len(data)/folds))\n",
        " \n",
        "  test_fold=data\n",
        "  \n",
        "  while len(test_fold) > sample_size :\n",
        "  #create sample to model\n",
        "    test_sample = test_fold.sample(sample_size)\n",
        "  #drop the sample from the set so it can't be resampled\n",
        "    test_fold=test_fold.drop(test_sample.index)\n",
        "    \n",
        "    test_data=test_sample[keywords + ['allcaps']]\n",
        "    test_target=test_sample['spam']\n",
        "  \n",
        "    score = model.fit(test_data,test_target).score(test_data,test_target)\n",
        "    y_pred = model.fit(test_data,test_target).predict(test_data)\n",
        "    accuracy.append(score)\n",
        "    \n",
        "    conf_mat=confusion_matrix(test_target, y_pred)\n",
        "    \n",
        "    #print(score,'\\n',conf_mat)\n",
        "    plot_confusion_matrix(conf_mat, sms_raw.columns[2:],\n",
        "                          normalize=False,\n",
        "                          title='Confusion matrix',\n",
        "                          cmap=plt.cm.Blues)\n",
        "  #return accuracy\n",
        "  #make n samples of the data variable\n",
        "  ## Where n = folds\n",
        "  #run each fold through the given model\n",
        "  #aggregate results and return an array\n",
        "  \n",
        "  "
      ],
      "execution_count": 0,
      "outputs": []
    },
    {
      "metadata": {
        "id": "by2xm207ASsc",
        "colab_type": "code",
        "colab": {}
      },
      "cell_type": "code",
      "source": [
        "\n",
        "cross_val(bnb,sms_raw, folds=10)"
      ],
      "execution_count": 0,
      "outputs": []
    },
    {
      "metadata": {
        "id": "5MjzVM0MMEs7",
        "colab_type": "code",
        "colab": {
          "base_uri": "https://localhost:8080/",
          "height": 35
        },
        "outputId": "57a8c55d-4385-4a74-9c48-084f63032862"
      },
      "cell_type": "code",
      "source": [
        "# rewrite function above to select the highest and lowest accuracy sample and display confusion matrix "
      ],
      "execution_count": 42,
      "outputs": [
        {
          "output_type": "execute_result",
          "data": {
            "text/plain": [
              "Index(['click', 'offer', 'winner', 'buy', 'free', 'cash', 'urgent', 'allcaps'], dtype='object')"
            ]
          },
          "metadata": {
            "tags": []
          },
          "execution_count": 42
        }
      ]
    },
    {
      "metadata": {
        "id": "m0_yEOdVRGJQ",
        "colab_type": "code",
        "colab": {}
      },
      "cell_type": "code",
      "source": [
        "from sklearn.metrics import confusion_matrix\n",
        "import itertools\n",
        "def plot_confusion_matrix(cm, classes,\n",
        "                          normalize=False,\n",
        "                          title='Confusion matrix',\n",
        "                          cmap=plt.cm.Blues):\n",
        "    \"\"\"\n",
        "    This function prints and plots the confusion matrix.\n",
        "    Normalization can be applied by setting `normalize=True`.\n",
        "    \"\"\"\n",
        "    if normalize:\n",
        "        cm = cm.astype('float') / cm.sum(axis=1)[:, np.newaxis]\n",
        "        print(\"Normalized confusion matrix\")\n",
        "    else:\n",
        "        print('Confusion matrix, without normalization')\n",
        "\n",
        "    print(cm)\n",
        "\n",
        "    plt.imshow(cm, interpolation='nearest', cmap=cmap)\n",
        "    plt.title(title)\n",
        "    plt.colorbar()\n",
        "    tick_marks = np.arange(len(classes))\n",
        "    plt.xticks(tick_marks, classes, rotation=45)\n",
        "    plt.yticks(tick_marks, classes)\n",
        "\n",
        "    fmt = '.2f' if normalize else 'd'\n",
        "    thresh = cm.max() / 2.\n",
        "    for i, j in itertools.product(range(cm.shape[0]), range(cm.shape[1])):\n",
        "        plt.text(j, i, format(cm[i, j], fmt),\n",
        "                 horizontalalignment=\"center\",\n",
        "                 color=\"white\" if cm[i, j] > thresh else \"black\")\n",
        "\n",
        "    plt.ylabel('True label')\n",
        "    plt.xlabel('Predicted label')\n",
        "    plt.tight_layout()\n"
      ],
      "execution_count": 0,
      "outputs": []
    }
  ]
}