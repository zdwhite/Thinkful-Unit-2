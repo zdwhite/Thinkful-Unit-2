{
  "nbformat": 4,
  "nbformat_minor": 0,
  "metadata": {
    "colab": {
      "name": "Linear Regression Model Assumptions",
      "version": "0.3.2",
      "provenance": [],
      "include_colab_link": true
    },
    "kernelspec": {
      "name": "python3",
      "display_name": "Python 3"
    }
  },
  "cells": [
    {
      "cell_type": "markdown",
      "metadata": {
        "id": "view-in-github",
        "colab_type": "text"
      },
      "source": [
        "<a href=\"https://colab.research.google.com/github/zdwhite/Thinkful-Unit-2/blob/master/Linear_Regression_Model_Assumptions.ipynb\" target=\"_parent\"><img src=\"https://colab.research.google.com/assets/colab-badge.svg\" alt=\"Open In Colab\"/></a>"
      ]
    },
    {
      "metadata": {
        "id": "wtj1lfryKbTG",
        "colab_type": "code",
        "outputId": "8dbb8f1d-05a6-4350-92f9-9e5b5659004b",
        "colab": {
          "base_uri": "https://localhost:8080/",
          "height": 219
        }
      },
      "cell_type": "code",
      "source": [
        "!pip install --upgrade seaborn"
      ],
      "execution_count": 0,
      "outputs": [
        {
          "output_type": "stream",
          "text": [
            "Requirement already up-to-date: seaborn in /usr/local/lib/python3.6/dist-packages (0.9.0)\n",
            "Requirement already satisfied, skipping upgrade: matplotlib>=1.4.3 in /usr/local/lib/python3.6/dist-packages (from seaborn) (2.1.2)\n",
            "Requirement already satisfied, skipping upgrade: scipy>=0.14.0 in /usr/local/lib/python3.6/dist-packages (from seaborn) (1.1.0)\n",
            "Requirement already satisfied, skipping upgrade: numpy>=1.9.3 in /usr/local/lib/python3.6/dist-packages (from seaborn) (1.14.6)\n",
            "Requirement already satisfied, skipping upgrade: pandas>=0.15.2 in /usr/local/lib/python3.6/dist-packages (from seaborn) (0.22.0)\n",
            "Requirement already satisfied, skipping upgrade: pytz in /usr/local/lib/python3.6/dist-packages (from matplotlib>=1.4.3->seaborn) (2018.7)\n",
            "Requirement already satisfied, skipping upgrade: pyparsing!=2.0.4,!=2.1.2,!=2.1.6,>=2.0.1 in /usr/local/lib/python3.6/dist-packages (from matplotlib>=1.4.3->seaborn) (2.3.0)\n",
            "Requirement already satisfied, skipping upgrade: six>=1.10 in /usr/local/lib/python3.6/dist-packages (from matplotlib>=1.4.3->seaborn) (1.11.0)\n",
            "Requirement already satisfied, skipping upgrade: cycler>=0.10 in /usr/local/lib/python3.6/dist-packages (from matplotlib>=1.4.3->seaborn) (0.10.0)\n",
            "Requirement already satisfied, skipping upgrade: python-dateutil>=2.1 in /usr/local/lib/python3.6/dist-packages (from matplotlib>=1.4.3->seaborn) (2.5.3)\n"
          ],
          "name": "stdout"
        }
      ]
    },
    {
      "metadata": {
        "id": "opnwE12oHtNV",
        "colab_type": "code",
        "colab": {}
      },
      "cell_type": "code",
      "source": [
        "import math\n",
        "import warnings\n",
        "\n",
        "from IPython.display import display\n",
        "from matplotlib import pyplot as plt\n",
        "import numpy as np\n",
        "import pandas as pd\n",
        "import seaborn as sns\n",
        "from sklearn import linear_model\n",
        "import statsmodels.formula.api as smf\n",
        "\n",
        "# Display preferences.\n",
        "%matplotlib inline\n",
        "pd.options.display.float_format = '{:.3f}'.format\n",
        "\n",
        "# Suppress annoying harmless error.\n",
        "warnings.filterwarnings(\n",
        "    action=\"ignore\",\n",
        "    module=\"scipy\",\n",
        "    message=\"^internal gelsd\"\n",
        ")"
      ],
      "execution_count": 0,
      "outputs": []
    },
    {
      "metadata": {
        "id": "1cfRTGwHHya0",
        "colab_type": "code",
        "outputId": "a27bb458-2fe8-4466-807e-386cf77bc567",
        "colab": {
          "base_uri": "https://localhost:8080/",
          "height": 362
        }
      },
      "cell_type": "code",
      "source": [
        "# Acquire, load, and preview the data.\n",
        "data = pd.read_csv('https://tf-curricula-prod.s3.amazonaws.com/data-science/Advertising.csv')\n",
        "display(data.head())\n",
        "\n",
        "# Instantiate and fit our model.\n",
        "regr = linear_model.LinearRegression()\n",
        "Y = data['Sales'].values.reshape(-1, 1)\n",
        "X = data[['TV','Radio','Newspaper']]\n",
        "regr.fit(X, Y)\n",
        "\n",
        "# Inspect the results.\n",
        "print('\\nCoefficients: \\n', regr.coef_)\n",
        "print('\\nIntercept: \\n', regr.intercept_)\n",
        "print('\\nR-squared:')\n",
        "print(regr.score(X, Y))"
      ],
      "execution_count": 0,
      "outputs": [
        {
          "output_type": "display_data",
          "data": {
            "text/html": [
              "<div>\n",
              "<style scoped>\n",
              "    .dataframe tbody tr th:only-of-type {\n",
              "        vertical-align: middle;\n",
              "    }\n",
              "\n",
              "    .dataframe tbody tr th {\n",
              "        vertical-align: top;\n",
              "    }\n",
              "\n",
              "    .dataframe thead th {\n",
              "        text-align: right;\n",
              "    }\n",
              "</style>\n",
              "<table border=\"1\" class=\"dataframe\">\n",
              "  <thead>\n",
              "    <tr style=\"text-align: right;\">\n",
              "      <th></th>\n",
              "      <th>Unnamed: 0</th>\n",
              "      <th>TV</th>\n",
              "      <th>Radio</th>\n",
              "      <th>Newspaper</th>\n",
              "      <th>Sales</th>\n",
              "    </tr>\n",
              "  </thead>\n",
              "  <tbody>\n",
              "    <tr>\n",
              "      <th>0</th>\n",
              "      <td>1</td>\n",
              "      <td>230.100</td>\n",
              "      <td>37.800</td>\n",
              "      <td>69.200</td>\n",
              "      <td>22.100</td>\n",
              "    </tr>\n",
              "    <tr>\n",
              "      <th>1</th>\n",
              "      <td>2</td>\n",
              "      <td>44.500</td>\n",
              "      <td>39.300</td>\n",
              "      <td>45.100</td>\n",
              "      <td>10.400</td>\n",
              "    </tr>\n",
              "    <tr>\n",
              "      <th>2</th>\n",
              "      <td>3</td>\n",
              "      <td>17.200</td>\n",
              "      <td>45.900</td>\n",
              "      <td>69.300</td>\n",
              "      <td>9.300</td>\n",
              "    </tr>\n",
              "    <tr>\n",
              "      <th>3</th>\n",
              "      <td>4</td>\n",
              "      <td>151.500</td>\n",
              "      <td>41.300</td>\n",
              "      <td>58.500</td>\n",
              "      <td>18.500</td>\n",
              "    </tr>\n",
              "    <tr>\n",
              "      <th>4</th>\n",
              "      <td>5</td>\n",
              "      <td>180.800</td>\n",
              "      <td>10.800</td>\n",
              "      <td>58.400</td>\n",
              "      <td>12.900</td>\n",
              "    </tr>\n",
              "  </tbody>\n",
              "</table>\n",
              "</div>"
            ],
            "text/plain": [
              "   Unnamed: 0      TV  Radio  Newspaper  Sales\n",
              "0           1 230.100 37.800     69.200 22.100\n",
              "1           2  44.500 39.300     45.100 10.400\n",
              "2           3  17.200 45.900     69.300  9.300\n",
              "3           4 151.500 41.300     58.500 18.500\n",
              "4           5 180.800 10.800     58.400 12.900"
            ]
          },
          "metadata": {
            "tags": []
          }
        },
        {
          "output_type": "stream",
          "text": [
            "\n",
            "Coefficients: \n",
            " [[ 0.04576465  0.18853002 -0.00103749]]\n",
            "\n",
            "Intercept: \n",
            " [2.93888937]\n",
            "\n",
            "R-squared:\n",
            "0.8972106381789521\n"
          ],
          "name": "stdout"
        }
      ]
    },
    {
      "metadata": {
        "id": "N05WiqfkZFVy",
        "colab_type": "code",
        "outputId": "8fc66b03-2573-4d56-9bb3-9c3c4e2b716e",
        "colab": {
          "base_uri": "https://localhost:8080/",
          "height": 35
        }
      },
      "cell_type": "code",
      "source": [
        "\n",
        "data['Sales'].values.reshape(-1, 1)\n",
        "data[['TV','Radio','Newspaper']]\n",
        "regr.fit(X, Y)"
      ],
      "execution_count": 0,
      "outputs": [
        {
          "output_type": "execute_result",
          "data": {
            "text/plain": [
              "LinearRegression(copy_X=True, fit_intercept=True, n_jobs=1, normalize=False)"
            ]
          },
          "metadata": {
            "tags": []
          },
          "execution_count": 6
        }
      ]
    },
    {
      "metadata": {
        "id": "W2OB1hawKGap",
        "colab_type": "text"
      },
      "cell_type": "markdown",
      "source": [
        "### Assumption one: linear relationship\n",
        "\n",
        "\n",
        "\n",
        "*  ** If the relationship is non-linear, the regression model will try to find any hint of a linear relationship**\n",
        "*  **can be fixed by applying a non-linear transformation function to a feature**\n",
        "\n"
      ]
    },
    {
      "metadata": {
        "id": "onSMLgfrH_Kg",
        "colab_type": "code",
        "outputId": "40a2912c-07ac-4411-eb3b-c9c053fd58b0",
        "colab": {
          "base_uri": "https://localhost:8080/",
          "height": 545
        }
      },
      "cell_type": "code",
      "source": [
        "# Sample data.\n",
        "outcome = [1, 2, 3, 4, 5, 6, 7, 8, 9, 10, 11, 12]\n",
        "feature = [3, 4, 10, 16, 25, 33, 49, 60, 85, 100, 130, 140]\n",
        "\n",
        "# Plot the data as-is. Looks a mite quadratic.\n",
        "plt.scatter(outcome, feature)\n",
        "plt.title('Raw values')\n",
        "plt.show()\n",
        "\n",
        "# Create a feature using a non-linear transformation.\n",
        "sqrt_feature = [math.sqrt(x) for x in  feature]\n",
        "\n",
        "\n",
        "# Well now isn't that nice.\n",
        "plt.scatter(outcome, sqrt_feature)\n",
        "plt.title('Transformed values')\n",
        "plt.show()"
      ],
      "execution_count": 0,
      "outputs": [
        {
          "output_type": "display_data",
          "data": {
            "image/png": "[encoded data removed]",
            "text/plain": [
              "<matplotlib.figure.Figure at 0x7f950493d208>"
            ]
          },
          "metadata": {
            "tags": []
          }
        },
        {
          "output_type": "display_data",
          "data": {
            "image/png": "[encoded data removed]",
            "text/plain": [
              "<matplotlib.figure.Figure at 0x7f94fca46a20>"
            ]
          },
          "metadata": {
            "tags": []
          }
        }
      ]
    },
    {
      "metadata": {
        "id": "vQyEOULEJug_",
        "colab_type": "text"
      },
      "cell_type": "markdown",
      "source": [
        "### Assumption two: multivariate normality\n",
        "\n",
        "*    **The error from the model should be normally distributed**\n",
        "*    **Outliers or skewness in error can often be traced back to outliers or skewness in data**"
      ]
    },
    {
      "metadata": {
        "id": "23rFQhb6IAdM",
        "colab_type": "code",
        "outputId": "014138ca-c3ae-4850-95ce-789abb207dcc",
        "colab": {
          "base_uri": "https://localhost:8080/",
          "height": 295
        }
      },
      "cell_type": "code",
      "source": [
        "# Extract predicted values.\n",
        "predicted = regr.predict(X).ravel()\n",
        "actual = data['Sales']\n",
        "\n",
        "# Calculate the error, also called the residual.\n",
        "residual = actual - predicted\n",
        "\n",
        "# This looks a bit concerning.\n",
        "plt.hist(residual)\n",
        "plt.title('Residual counts')\n",
        "plt.xlabel('Residual')\n",
        "plt.ylabel('Count')\n",
        "plt.show()"
      ],
      "execution_count": 0,
      "outputs": [
        {
          "output_type": "display_data",
          "data": {
            "image/png": "[encoded data removed]",
            "text/plain": [
              "<matplotlib.figure.Figure at 0x7f95010aec88>"
            ]
          },
          "metadata": {
            "tags": []
          }
        }
      ]
    },
    {
      "metadata": {
        "id": "S_TWchvAI3S2",
        "colab_type": "text"
      },
      "cell_type": "markdown",
      "source": [
        "### Assumption three: homoscedasticity\n",
        "\n",
        "\n",
        "\n",
        "*   **Inconsistent distribution of error**\n",
        "    *  ex : more variance in the error for large outcome values than for small ones\n",
        "*   **Fix by**\n",
        "    *   Transform the dependent variable and adding features that target the poorly-estimated areas\n",
        "\n"
      ]
    },
    {
      "metadata": {
        "id": "-ulSQ_KfIDJp",
        "colab_type": "code",
        "outputId": "1c6659ca-4971-40eb-fb01-d6cd55a5ae73",
        "colab": {
          "base_uri": "https://localhost:8080/",
          "height": 295
        }
      },
      "cell_type": "code",
      "source": [
        "plt.scatter(predicted, residual)\n",
        "plt.xlabel('Predicted')\n",
        "plt.ylabel('Residual')\n",
        "plt.axhline(y=0)\n",
        "plt.title('Residual vs. Predicted')\n",
        "plt.show()\n",
        "\n",
        "# Hm... looks a bit concerning."
      ],
      "execution_count": 0,
      "outputs": [
        {
          "output_type": "display_data",
          "data": {
            "image/png": "[encoded data removed]",
            "text/plain": [
              "<matplotlib.figure.Figure at 0x7f950493d400>"
            ]
          },
          "metadata": {
            "tags": []
          }
        }
      ]
    },
    {
      "metadata": {
        "id": "GgNYPvJ1Il-n",
        "colab_type": "text"
      },
      "cell_type": "markdown",
      "source": [
        "### Assumption four: low multicollinearity\n",
        "\n",
        "\n",
        "\n",
        "*  ** Multicollinearity can cause us to underestimate the relationship between features and outcomes.**\n",
        "*  **Multicollinearity can be fixed by PCA or by discarding some of the correlated features.**\n",
        "\n"
      ]
    },
    {
      "metadata": {
        "id": "tCJTcGMiIlNJ",
        "colab_type": "code",
        "outputId": "92b9f3c8-0f9d-4b84-aebc-8f1e4ada2f36",
        "colab": {
          "base_uri": "https://localhost:8080/",
          "height": 138
        }
      },
      "cell_type": "code",
      "source": [
        "correlation_matrix = X.corr()\n",
        "display(correlation_matrix)"
      ],
      "execution_count": 0,
      "outputs": [
        {
          "output_type": "display_data",
          "data": {
            "text/html": [
              "<div>\n",
              "<style scoped>\n",
              "    .dataframe tbody tr th:only-of-type {\n",
              "        vertical-align: middle;\n",
              "    }\n",
              "\n",
              "    .dataframe tbody tr th {\n",
              "        vertical-align: top;\n",
              "    }\n",
              "\n",
              "    .dataframe thead th {\n",
              "        text-align: right;\n",
              "    }\n",
              "</style>\n",
              "<table border=\"1\" class=\"dataframe\">\n",
              "  <thead>\n",
              "    <tr style=\"text-align: right;\">\n",
              "      <th></th>\n",
              "      <th>TV</th>\n",
              "      <th>Radio</th>\n",
              "      <th>Newspaper</th>\n",
              "    </tr>\n",
              "  </thead>\n",
              "  <tbody>\n",
              "    <tr>\n",
              "      <th>TV</th>\n",
              "      <td>1.000</td>\n",
              "      <td>0.055</td>\n",
              "      <td>0.057</td>\n",
              "    </tr>\n",
              "    <tr>\n",
              "      <th>Radio</th>\n",
              "      <td>0.055</td>\n",
              "      <td>1.000</td>\n",
              "      <td>0.354</td>\n",
              "    </tr>\n",
              "    <tr>\n",
              "      <th>Newspaper</th>\n",
              "      <td>0.057</td>\n",
              "      <td>0.354</td>\n",
              "      <td>1.000</td>\n",
              "    </tr>\n",
              "  </tbody>\n",
              "</table>\n",
              "</div>"
            ],
            "text/plain": [
              "             TV  Radio  Newspaper\n",
              "TV        1.000  0.055      0.057\n",
              "Radio     0.055  1.000      0.354\n",
              "Newspaper 0.057  0.354      1.000"
            ]
          },
          "metadata": {
            "tags": []
          }
        }
      ]
    },
    {
      "metadata": {
        "id": "1ya2FXT3K4Xl",
        "colab_type": "text"
      },
      "cell_type": "markdown",
      "source": [
        "## Drill: fixing assumptions\n",
        "\n",
        "\n",
        "\n",
        "*   Assumption two : multivariate non-normality\n",
        "*   Assumption three : heteroscedasticity\n",
        "\n"
      ]
    },
    {
      "metadata": {
        "id": "Z4xqsQE3gck9",
        "colab_type": "code",
        "colab": {}
      },
      "cell_type": "code",
      "source": [
        "\n",
        "#do a bunch of shit so I can scatter plot this bitch\n",
        "df = data.set_index(['Sales'])\n",
        "df = df.drop('Unnamed: 0',axis=1)\n",
        "df=df.stack().reset_index()\n",
        "df.columns=['Sales','Variable','Value']"
      ],
      "execution_count": 0,
      "outputs": []
    },
    {
      "metadata": {
        "id": "5Gk4wy9ZlzIM",
        "colab_type": "code",
        "outputId": "f0a70873-d9cb-4aca-cc2f-6efd9225cd1e",
        "colab": {
          "base_uri": "https://localhost:8080/",
          "height": 369
        }
      },
      "cell_type": "code",
      "source": [
        "\n",
        "df\n",
        "#f, ax = plt.subplots(figsize=(10,10))\n",
        "ax  = sns.lmplot('Value','Sales',hue='Variable',data=df)\n"
      ],
      "execution_count": 0,
      "outputs": [
        {
          "output_type": "display_data",
          "data": {
            "image/png": "[encoded data removed]",
            "text/plain": [
              "<matplotlib.figure.Figure at 0x7f94fc67d320>"
            ]
          },
          "metadata": {
            "tags": []
          }
        }
      ]
    },
    {
      "metadata": {
        "id": "RK3XgJKhK2En",
        "colab_type": "code",
        "outputId": "7252a0c8-fc5a-456d-ec9b-43a40a08a5e1",
        "colab": {
          "base_uri": "https://localhost:8080/",
          "height": 181
        }
      },
      "cell_type": "code",
      "source": [
        "actual.describe()"
      ],
      "execution_count": 0,
      "outputs": [
        {
          "output_type": "execute_result",
          "data": {
            "text/plain": [
              "count   200.000\n",
              "mean     14.023\n",
              "std       5.217\n",
              "min       1.600\n",
              "25%      10.375\n",
              "50%      12.900\n",
              "75%      17.400\n",
              "max      27.000\n",
              "Name: Sales, dtype: float64"
            ]
          },
          "metadata": {
            "tags": []
          },
          "execution_count": 11
        }
      ]
    },
    {
      "metadata": {
        "id": "1FIQgqZELPfP",
        "colab_type": "code",
        "outputId": "399a34c7-0fa0-428c-d598-9bc95a355109",
        "colab": {
          "base_uri": "https://localhost:8080/",
          "height": 426
        }
      },
      "cell_type": "code",
      "source": [
        "fig1, ax1 = plt.subplots()\n",
        "ax1.set_title('Actual Sales')\n",
        "ax1.boxplot(actual)\n"
      ],
      "execution_count": 0,
      "outputs": [
        {
          "output_type": "execute_result",
          "data": {
            "text/plain": [
              "{'boxes': [<matplotlib.lines.Line2D at 0x7f94fca51668>],\n",
              " 'caps': [<matplotlib.lines.Line2D at 0x7f94fca512b0>,\n",
              "  <matplotlib.lines.Line2D at 0x7f94fe27dda0>],\n",
              " 'fliers': [<matplotlib.lines.Line2D at 0x7f94fe27d6a0>],\n",
              " 'means': [],\n",
              " 'medians': [<matplotlib.lines.Line2D at 0x7f94fe27da20>],\n",
              " 'whiskers': [<matplotlib.lines.Line2D at 0x7f94fca516d8>,\n",
              "  <matplotlib.lines.Line2D at 0x7f94fca51080>]}"
            ]
          },
          "metadata": {
            "tags": []
          },
          "execution_count": 12
        },
        {
          "output_type": "display_data",
          "data": {
            "image/png": "[encoded data removed]",
            "text/plain": [
              "<matplotlib.figure.Figure at 0x7f94fc93dc18>"
            ]
          },
          "metadata": {
            "tags": []
          }
        }
      ]
    },
    {
      "metadata": {
        "id": "7MgCNLRZLkJR",
        "colab_type": "code",
        "outputId": "49d48d47-eaa9-415c-cff3-201059c5992a",
        "colab": {
          "base_uri": "https://localhost:8080/",
          "height": 269
        }
      },
      "cell_type": "code",
      "source": [
        "fig, ax = plt.subplots()\n",
        "plt.hist(actual)\n",
        "plt.show()"
      ],
      "execution_count": 0,
      "outputs": [
        {
          "output_type": "display_data",
          "data": {
            "image/png": "[encoded data removed]",
            "text/plain": [
              "<matplotlib.figure.Figure at 0x7f94fca34b00>"
            ]
          },
          "metadata": {
            "tags": []
          }
        }
      ]
    },
    {
      "metadata": {
        "id": "UQrgrwPhYWjX",
        "colab_type": "code",
        "outputId": "8b8595f5-97a1-41d8-a852-9c984b083e4d",
        "colab": {
          "base_uri": "https://localhost:8080/",
          "height": 269
        }
      },
      "cell_type": "code",
      "source": [
        "fig, ax = plt.subplots()\n",
        "plt.hist(predicted)\n",
        "plt.show()"
      ],
      "execution_count": 0,
      "outputs": [
        {
          "output_type": "display_data",
          "data": {
            "image/png": "[encoded data removed]",
            "text/plain": [
              "<matplotlib.figure.Figure at 0x7f94fc9536d8>"
            ]
          },
          "metadata": {
            "tags": []
          }
        }
      ]
    }
  ]
}