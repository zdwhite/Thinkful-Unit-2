{
  "nbformat": 4,
  "nbformat_minor": 0,
  "metadata": {
    "colab": {
      "name": "Drill: Regression or classification",
      "version": "0.3.2",
      "provenance": [],
      "include_colab_link": true
    },
    "kernelspec": {
      "name": "python3",
      "display_name": "Python 3"
    }
  },
  "cells": [
    {
      "cell_type": "markdown",
      "metadata": {
        "id": "view-in-github",
        "colab_type": "text"
      },
      "source": [
        "<a href=\"https://colab.research.google.com/github/zdwhite/Thinkful-Unit-2/blob/master/Drill_Regression_or_classification.ipynb\" target=\"_parent\"><img src=\"https://colab.research.google.com/assets/colab-badge.svg\" alt=\"Open In Colab\"/></a>"
      ]
    },
    {
      "metadata": {
        "id": "eNclV79zG6Re",
        "colab_type": "text"
      },
      "cell_type": "markdown",
      "source": [
        "For each of the following situations, decide if you would model using a regression or classification model. Discuss your reasoning with your mentor next time you meet.\n",
        "\n",
        "\n",
        "\n",
        "1.   The amount a person will spend on a given site in the next 24 months.\n",
        "\n",
        "> Regression - Range from absolute 0 to potentially large\n",
        "\n",
        "2.   What color car someone is going to buy.\n",
        "\n",
        ">Classification - Limited color options\n",
        "\n",
        "3.    How many children a family will have.\n",
        "\n",
        ">Classification - Could  be either, however the number of children a family can have is limited by a number of factors mainly biology and financial.\n",
        "\n",
        "4.    If someone will sign up for a service.\n",
        "\n",
        ">Classification - Yes or no with a probability asigned to either\n",
        "\n",
        "5.    The number of times someone will get sick in a year.\n",
        "\n",
        ">Regression- Range from absolute 0 to potentially a large number.\n",
        "\n",
        "6.    The probability someone will get sick in the next month.\n",
        "\n",
        ">Classification- Yes or no with a probabilty assigned to the outcome.\n",
        "\n",
        "7.    Which medicine will work best for a given patient.\n",
        "\n",
        ">Classification-  Range of medicines with probability associated outcomes\n",
        "\n",
        "\n"
      ]
    }
  ]
}