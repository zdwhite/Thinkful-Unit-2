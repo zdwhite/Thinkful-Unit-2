{
  "nbformat": 4,
  "nbformat_minor": 0,
  "metadata": {
    "colab": {
      "name": "Challenge: make your own regression model",
      "version": "0.3.2",
      "provenance": [],
      "include_colab_link": true
    },
    "kernelspec": {
      "name": "python3",
      "display_name": "Python 3"
    }
  },
  "cells": [
    {
      "cell_type": "markdown",
      "metadata": {
        "id": "view-in-github",
        "colab_type": "text"
      },
      "source": [
        "<a href=\"https://colab.research.google.com/github/zdwhite/Thinkful-Unit-2/blob/master/Challenge_make_your_own_regression_model.ipynb\" target=\"_parent\"><img src=\"https://colab.research.google.com/assets/colab-badge.svg\" alt=\"Open In Colab\"/></a>"
      ]
    },
    {
      "metadata": {
        "id": "7clhcMrao_uu",
        "colab_type": "code",
        "colab": {}
      },
      "cell_type": "code",
      "source": [
        "import numpy as np\n",
        "import pandas as pd\n",
        "import scipy\n",
        "import sklearn\n",
        "import matplotlib.pyplot as plt\n",
        "import seaborn as sns"
      ],
      "execution_count": 0,
      "outputs": []
    },
    {
      "metadata": {
        "id": "rZRq4AcrsSqd",
        "colab_type": "code",
        "colab": {}
      },
      "cell_type": "code",
      "source": [
        "data_path = (\"https://raw.githubusercontent.com/Thinkful-Ed/data-201-resources/master/New_York_offenses/NEW_YORK-Offenses_Known_to_Law_Enforcement_by_City_2013%20-%2013tbl8ny.csv\"\n",
        "            )\n",
        "df = pd.read_csv(data_path, delimiter= ',')\n",
        "\n",
        "#drop the first 4 rows of data as they aren't needed\n",
        "df = df.drop([0,1,2,3])\n",
        "\n",
        "#remove the last 3 rows as they aren't needed either\n",
        "df = df.iloc[:len(df)-3]\n",
        "\n",
        "\n",
        "# there aren't many columns just clean them by hand\n",
        "df.columns = ['City',\t'Population',\t'Violent',\t'Murder', \t'Rape_revised',\t'Rape_legacy',\t'Robbery',\t'Aggravated_assault',\t'Property_crime',\t'Burglary',\t'Larceny_theft',\t'Motor_vehicle_theft',\t'Arson']\n",
        "\n",
        "# lots of NaN values lets just fill them in with 0s\n",
        "df.fillna(0,inplace=True)\n",
        "\n",
        "# drop all the columns not used for the regression model\n",
        "df=df.loc[:,['City','Population','Murder','Robbery','Property_crime']]\n",
        "df.set_index('City',inplace=True)\n",
        "\n",
        "#remove ','\n",
        "df = df.apply(lambda x: x.str.replace(',',''))\n",
        "\n",
        "#turn columns into integars\n",
        "df = df.apply(lambda x: pd.to_numeric(x,errors='coerce'))\n"
      ],
      "execution_count": 0,
      "outputs": []
    },
    {
      "metadata": {
        "id": "Nmecuqc6stUu",
        "colab_type": "code",
        "colab": {
          "base_uri": "https://localhost:8080/",
          "height": 228
        },
        "outputId": "c7c3b173-2fb4-4884-b02f-906a8f6c6589"
      },
      "cell_type": "code",
      "source": [
        "df.head(5)"
      ],
      "execution_count": 34,
      "outputs": [
        {
          "output_type": "execute_result",
          "data": {
            "text/html": [
              "<div>\n",
              "<style scoped>\n",
              "    .dataframe tbody tr th:only-of-type {\n",
              "        vertical-align: middle;\n",
              "    }\n",
              "\n",
              "    .dataframe tbody tr th {\n",
              "        vertical-align: top;\n",
              "    }\n",
              "\n",
              "    .dataframe thead th {\n",
              "        text-align: right;\n",
              "    }\n",
              "</style>\n",
              "<table border=\"1\" class=\"dataframe\">\n",
              "  <thead>\n",
              "    <tr style=\"text-align: right;\">\n",
              "      <th></th>\n",
              "      <th>Population</th>\n",
              "      <th>Murder</th>\n",
              "      <th>Robbery</th>\n",
              "      <th>Property_crime</th>\n",
              "    </tr>\n",
              "    <tr>\n",
              "      <th>City</th>\n",
              "      <th></th>\n",
              "      <th></th>\n",
              "      <th></th>\n",
              "      <th></th>\n",
              "    </tr>\n",
              "  </thead>\n",
              "  <tbody>\n",
              "    <tr>\n",
              "      <th>Adams Village</th>\n",
              "      <td>1861</td>\n",
              "      <td>0</td>\n",
              "      <td>0</td>\n",
              "      <td>12</td>\n",
              "    </tr>\n",
              "    <tr>\n",
              "      <th>Addison Town and Village</th>\n",
              "      <td>2577</td>\n",
              "      <td>0</td>\n",
              "      <td>0</td>\n",
              "      <td>24</td>\n",
              "    </tr>\n",
              "    <tr>\n",
              "      <th>Akron Village</th>\n",
              "      <td>2846</td>\n",
              "      <td>0</td>\n",
              "      <td>0</td>\n",
              "      <td>16</td>\n",
              "    </tr>\n",
              "    <tr>\n",
              "      <th>Albany</th>\n",
              "      <td>97956</td>\n",
              "      <td>8</td>\n",
              "      <td>227</td>\n",
              "      <td>4090</td>\n",
              "    </tr>\n",
              "    <tr>\n",
              "      <th>Albion Village</th>\n",
              "      <td>6388</td>\n",
              "      <td>0</td>\n",
              "      <td>4</td>\n",
              "      <td>223</td>\n",
              "    </tr>\n",
              "  </tbody>\n",
              "</table>\n",
              "</div>"
            ],
            "text/plain": [
              "                          Population  Murder  Robbery  Property_crime\n",
              "City                                                                 \n",
              "Adams Village                   1861       0        0              12\n",
              "Addison Town and Village        2577       0        0              24\n",
              "Akron Village                   2846       0        0              16\n",
              "Albany                         97956       8      227            4090\n",
              "Albion Village                  6388       0        4             223"
            ]
          },
          "metadata": {
            "tags": []
          },
          "execution_count": 34
        }
      ]
    },
    {
      "metadata": {
        "id": "z2xkHLhe0hBd",
        "colab_type": "text"
      },
      "cell_type": "markdown",
      "source": [
        ">Prepare this data to model with multivariable regression (including data cleaning if necessary) according to this specification:\n",
        "\n",
        "$$ Property Crime = \\alpha + Population + Population^2 + Murder + Robbery$$\n",
        "\n",
        "\n",
        "1.     Murder (continuous) > Murder(categorical)\n",
        "\n",
        "2.    Robbery (continuous) > Robbery(categorical)"
      ]
    },
    {
      "metadata": {
        "id": "fEkbyVN1tRcC",
        "colab_type": "code",
        "colab": {}
      },
      "cell_type": "code",
      "source": [
        "#define a quick function to apply over murder and robbery columns\n",
        "# Turns elements into binary categorical data from continuous\n",
        "\n",
        "def non_zero(x):\n",
        "  if int(x) > 0:\n",
        "    return 1\n",
        "  return 0\n",
        "\n",
        "\n",
        "#Holy shit this is elegant !!\n",
        "# takes murder and robbery columns looks at each element and applys the non_zero function above\n",
        "#df.loc[:,'Murder':'Robbery'] = df.loc[:,'Murder':'Robbery'].apply(lambda x: x.apply(non_zero))\n",
        "\n",
        "# Turn Population into integar values (These lines are depretiated and are not needed)\n",
        "#  I like the code as examples of using .loc in combination with apply and lambda\n",
        "#df.loc[:,'Population'] = df.loc[:,'Population'].apply(lambda x: int(x))\n",
        "#df.loc[:,'Population'] = int(df.loc[:,'Population'])\n",
        "\n",
        "\n",
        "#Create Population Squared\n",
        "df['Population_squared'] = df.loc[:,'Population'].apply(lambda x: int(x)**2)"
      ],
      "execution_count": 0,
      "outputs": []
    },
    {
      "metadata": {
        "id": "CPXXF5PsB0eH",
        "colab_type": "code",
        "colab": {
          "base_uri": "https://localhost:8080/",
          "height": 198
        },
        "outputId": "894f6683-eb04-468d-b282-ba11b44a88b0"
      },
      "cell_type": "code",
      "source": [
        "correlation_matrix = df.corr()\n",
        "display(correlation_matrix)"
      ],
      "execution_count": 36,
      "outputs": [
        {
          "output_type": "display_data",
          "data": {
            "text/html": [
              "<div>\n",
              "<style scoped>\n",
              "    .dataframe tbody tr th:only-of-type {\n",
              "        vertical-align: middle;\n",
              "    }\n",
              "\n",
              "    .dataframe tbody tr th {\n",
              "        vertical-align: top;\n",
              "    }\n",
              "\n",
              "    .dataframe thead th {\n",
              "        text-align: right;\n",
              "    }\n",
              "</style>\n",
              "<table border=\"1\" class=\"dataframe\">\n",
              "  <thead>\n",
              "    <tr style=\"text-align: right;\">\n",
              "      <th></th>\n",
              "      <th>Population</th>\n",
              "      <th>Murder</th>\n",
              "      <th>Robbery</th>\n",
              "      <th>Property_crime</th>\n",
              "      <th>Population_squared</th>\n",
              "    </tr>\n",
              "  </thead>\n",
              "  <tbody>\n",
              "    <tr>\n",
              "      <th>Population</th>\n",
              "      <td>1.000000</td>\n",
              "      <td>0.986758</td>\n",
              "      <td>0.998469</td>\n",
              "      <td>0.996265</td>\n",
              "      <td>0.998264</td>\n",
              "    </tr>\n",
              "    <tr>\n",
              "      <th>Murder</th>\n",
              "      <td>0.986758</td>\n",
              "      <td>1.000000</td>\n",
              "      <td>0.993104</td>\n",
              "      <td>0.995403</td>\n",
              "      <td>0.979574</td>\n",
              "    </tr>\n",
              "    <tr>\n",
              "      <th>Robbery</th>\n",
              "      <td>0.998469</td>\n",
              "      <td>0.993104</td>\n",
              "      <td>1.000000</td>\n",
              "      <td>0.998237</td>\n",
              "      <td>0.995876</td>\n",
              "    </tr>\n",
              "    <tr>\n",
              "      <th>Property_crime</th>\n",
              "      <td>0.996265</td>\n",
              "      <td>0.995403</td>\n",
              "      <td>0.998237</td>\n",
              "      <td>1.000000</td>\n",
              "      <td>0.991027</td>\n",
              "    </tr>\n",
              "    <tr>\n",
              "      <th>Population_squared</th>\n",
              "      <td>0.998264</td>\n",
              "      <td>0.979574</td>\n",
              "      <td>0.995876</td>\n",
              "      <td>0.991027</td>\n",
              "      <td>1.000000</td>\n",
              "    </tr>\n",
              "  </tbody>\n",
              "</table>\n",
              "</div>"
            ],
            "text/plain": [
              "                    Population    Murder   Robbery  Property_crime  \\\n",
              "Population            1.000000  0.986758  0.998469        0.996265   \n",
              "Murder                0.986758  1.000000  0.993104        0.995403   \n",
              "Robbery               0.998469  0.993104  1.000000        0.998237   \n",
              "Property_crime        0.996265  0.995403  0.998237        1.000000   \n",
              "Population_squared    0.998264  0.979574  0.995876        0.991027   \n",
              "\n",
              "                    Population_squared  \n",
              "Population                    0.998264  \n",
              "Murder                        0.979574  \n",
              "Robbery                       0.995876  \n",
              "Property_crime                0.991027  \n",
              "Population_squared            1.000000  "
            ]
          },
          "metadata": {
            "tags": []
          }
        }
      ]
    },
    {
      "metadata": {
        "id": "r8Sj_eLeIFP3",
        "colab_type": "code",
        "colab": {
          "base_uri": "https://localhost:8080/",
          "height": 235
        },
        "outputId": "9630c622-480a-4ed9-ff17-e5735a192641"
      },
      "cell_type": "code",
      "source": [
        "\n",
        "from sklearn import linear_model\n",
        "\n",
        "regr = linear_model.LinearRegression()\n",
        "Y = df['Property_crime'].values.reshape(-1, 1)\n",
        "X = df.loc[:,df.columns !='Property_crime']\n",
        "regr.fit(X, Y)\n",
        "\n",
        "# Inspect the results.\n",
        "print('\\nIndependant Variables:','\\n   Population      ','Murder         ','Robbery        ', 'Population_squared')\n",
        "print('\\nCoefficients: \\n', regr.coef_)\n",
        "print('\\nIntercept: \\n', regr.intercept_)\n",
        "print('\\nR-squared:')\n",
        "print(regr.score(X, Y))"
      ],
      "execution_count": 37,
      "outputs": [
        {
          "output_type": "stream",
          "text": [
            "\n",
            "Independant Variables: \n",
            "   Population       Murder          Robbery         Population_squared\n",
            "\n",
            "Coefficients: \n",
            " [[ 1.59237145e-02  1.17559916e+02  2.09186426e+00 -1.01046282e-09]]\n",
            "\n",
            "Intercept: \n",
            " [24.1315523]\n",
            "\n",
            "R-squared:\n",
            "0.9987417419604476\n"
          ],
          "name": "stdout"
        }
      ]
    },
    {
      "metadata": {
        "id": "vmRK20FXewxM",
        "colab_type": "code",
        "colab": {
          "base_uri": "https://localhost:8080/",
          "height": 72
        },
        "outputId": "186042ed-eff3-4fe5-fcd0-045311cd3141"
      },
      "cell_type": "code",
      "source": [
        "\"\"#df.loc[:,df.columns !='Property_crime']\n",
        "\n",
        "df.columns "
      ],
      "execution_count": 38,
      "outputs": [
        {
          "output_type": "execute_result",
          "data": {
            "text/plain": [
              "Index(['Population', 'Murder', 'Robbery', 'Property_crime',\n",
              "       'Population_squared'],\n",
              "      dtype='object')"
            ]
          },
          "metadata": {
            "tags": []
          },
          "execution_count": 38
        }
      ]
    },
    {
      "metadata": {
        "id": "ureUfSjlgTKi",
        "colab_type": "code",
        "colab": {
          "base_uri": "https://localhost:8080/",
          "height": 295
        },
        "outputId": "eef20c40-fc33-4922-84d7-4a6fa2d4e11b"
      },
      "cell_type": "code",
      "source": [
        "predicted = regr.predict(X).ravel()\n",
        "actual = df['Property_crime']\n",
        "\n",
        "# Calculate the error, also called the residual.\n",
        "residual = actual - predicted\n",
        "\n",
        "# This looks a bit concerning.\n",
        "plt.hist(residual)\n",
        "plt.title('Residual counts')\n",
        "plt.xlabel('Residual')\n",
        "plt.ylabel('Count')\n",
        "plt.show()\n",
        "\n"
      ],
      "execution_count": 39,
      "outputs": [
        {
          "output_type": "display_data",
          "data": {
            "image/png": "[encoded data removed]",
            "text/plain": [
              "<matplotlib.figure.Figure at 0x7f476692ee80>"
            ]
          },
          "metadata": {
            "tags": []
          }
        }
      ]
    },
    {
      "metadata": {
        "id": "7R5brD_Z7F25",
        "colab_type": "text"
      },
      "cell_type": "markdown",
      "source": [
        "HMMMMMMMMMMMMMMMMMMMMMMMMMMMMMM"
      ]
    },
    {
      "metadata": {
        "id": "DBQz0d2-7HW_",
        "colab_type": "code",
        "colab": {
          "base_uri": "https://localhost:8080/",
          "height": 295
        },
        "outputId": "9bbcce27-a78f-4ea1-bfd6-bb4c7a5e3f24"
      },
      "cell_type": "code",
      "source": [
        "plt.scatter(predicted, residual)\n",
        "plt.xlabel('Predicted')\n",
        "plt.ylabel('Residual')\n",
        "plt.axhline(y=0)\n",
        "plt.title('Residual vs. Predicted')\n",
        "plt.show()"
      ],
      "execution_count": 40,
      "outputs": [
        {
          "output_type": "display_data",
          "data": {
            "image/png": "[encoded data removed]",
            "text/plain": [
              "<matplotlib.figure.Figure at 0x7f47635f7ba8>"
            ]
          },
          "metadata": {
            "tags": []
          }
        }
      ]
    },
    {
      "metadata": {
        "id": "quSb0EV57MKI",
        "colab_type": "text"
      },
      "cell_type": "markdown",
      "source": [
        "Nothing wrong with this picture ... Other than everything. \n",
        "\n",
        "Look dad I'm predicting stuff with my model. It can even draw \n",
        "\n",
        "![Draw](https://i.ytimg.com/vi/pj-eTk1ZlD8/hqdefault.jpg)"
      ]
    },
    {
      "metadata": {
        "id": "HUWz5Wmi7J4l",
        "colab_type": "code",
        "colab": {}
      },
      "cell_type": "code",
      "source": [
        "df"
      ],
      "execution_count": 0,
      "outputs": []
    },
    {
      "metadata": {
        "id": "W2lnS29m7d-f",
        "colab_type": "code",
        "colab": {}
      },
      "cell_type": "code",
      "source": [
        ""
      ],
      "execution_count": 0,
      "outputs": []
    },
    {
      "metadata": {
        "id": "R-wyf_1p8Ao5",
        "colab_type": "code",
        "colab": {}
      },
      "cell_type": "code",
      "source": [
        ""
      ],
      "execution_count": 0,
      "outputs": []
    }
  ]
}
