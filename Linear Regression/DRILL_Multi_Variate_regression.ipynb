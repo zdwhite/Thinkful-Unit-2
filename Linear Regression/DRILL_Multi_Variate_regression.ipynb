{
  "nbformat": 4,
  "nbformat_minor": 0,
  "metadata": {
    "colab": {
      "name": "DRILL: Multi-Variate regression",
      "version": "0.3.2",
      "provenance": [],
      "include_colab_link": true
    },
    "kernelspec": {
      "name": "python3",
      "display_name": "Python 3"
    }
  },
  "cells": [
    {
      "cell_type": "markdown",
      "metadata": {
        "id": "view-in-github",
        "colab_type": "text"
      },
      "source": [
        "<a href=\"https://colab.research.google.com/github/zdwhite/Thinkful-Unit-2/blob/master/DRILL_Multi_Variate_regression.ipynb\" target=\"_parent\"><img src=\"https://colab.research.google.com/assets/colab-badge.svg\" alt=\"Open In Colab\"/></a>"
      ]
    },
    {
      "metadata": {
        "id": "7clhcMrao_uu",
        "colab_type": "code",
        "colab": {}
      },
      "cell_type": "code",
      "source": [
        "import numpy as np\n",
        "import pandas as pd\n",
        "import scipy\n",
        "import sklearn\n",
        "import matplotlib.pyplot as plt\n",
        "import seaborn as sns"
      ],
      "execution_count": 0,
      "outputs": []
    },
    {
      "metadata": {
        "id": "rZRq4AcrsSqd",
        "colab_type": "code",
        "colab": {}
      },
      "cell_type": "code",
      "source": [
        "data_path = (\"https://raw.githubusercontent.com/Thinkful-Ed/data-201-resources/master/New_York_offenses/NEW_YORK-Offenses_Known_to_Law_Enforcement_by_City_2013%20-%2013tbl8ny.csv\"\n",
        "            )\n",
        "df = pd.read_csv(data_path, delimiter= ',')\n",
        "\n",
        "#drop the first 4 rows of data as they aren't needed\n",
        "df = df.drop([0,1,2,3])\n",
        "\n",
        "#remove the last 3 rows as they aren't needed either\n",
        "df = df.iloc[:len(df)-3]\n",
        "\n",
        "\n",
        "# there aren't many columns just clean them by hand\n",
        "df.columns = ['City',\t'Population',\t'Violent',\t'Murder', \t'Rape_revised',\t'Rape_legacy',\t'Robbery',\t'Aggravated_assault',\t'Property_crime',\t'Burglary',\t'Larceny_theft',\t'Motor_vehicle_theft',\t'Arson']\n",
        "\n",
        "# lots of NaN values lets just fill them in with 0s\n",
        "df.fillna(0,inplace=True)\n",
        "\n",
        "# drop all the columns not used for the regression model\n",
        "df=df.loc[:,['City','Population','Murder','Robbery']]\n",
        "df.set_index('City',inplace=True)\n",
        "\n",
        "#remove ','\n",
        "df = df.apply(lambda x: x.str.replace(',',''))\n",
        "\n",
        "#turn columns into integars\n",
        "df = df.apply(lambda x: pd.to_numeric(x,errors='coerce'))\n"
      ],
      "execution_count": 0,
      "outputs": []
    },
    {
      "metadata": {
        "id": "Nmecuqc6stUu",
        "colab_type": "code",
        "colab": {
          "base_uri": "https://localhost:8080/",
          "height": 228
        },
        "outputId": "997e389a-173d-4c72-a0dd-a2980bba5c54"
      },
      "cell_type": "code",
      "source": [
        "df.head(5)"
      ],
      "execution_count": 184,
      "outputs": [
        {
          "output_type": "execute_result",
          "data": {
            "text/html": [
              "<div>\n",
              "<style scoped>\n",
              "    .dataframe tbody tr th:only-of-type {\n",
              "        vertical-align: middle;\n",
              "    }\n",
              "\n",
              "    .dataframe tbody tr th {\n",
              "        vertical-align: top;\n",
              "    }\n",
              "\n",
              "    .dataframe thead th {\n",
              "        text-align: right;\n",
              "    }\n",
              "</style>\n",
              "<table border=\"1\" class=\"dataframe\">\n",
              "  <thead>\n",
              "    <tr style=\"text-align: right;\">\n",
              "      <th></th>\n",
              "      <th>Population</th>\n",
              "      <th>Murder</th>\n",
              "      <th>Robbery</th>\n",
              "      <th>Population_squared</th>\n",
              "    </tr>\n",
              "    <tr>\n",
              "      <th>City</th>\n",
              "      <th></th>\n",
              "      <th></th>\n",
              "      <th></th>\n",
              "      <th></th>\n",
              "    </tr>\n",
              "  </thead>\n",
              "  <tbody>\n",
              "    <tr>\n",
              "      <th>Adams Village</th>\n",
              "      <td>1861</td>\n",
              "      <td>0</td>\n",
              "      <td>0</td>\n",
              "      <td>3463321</td>\n",
              "    </tr>\n",
              "    <tr>\n",
              "      <th>Addison Town and Village</th>\n",
              "      <td>2577</td>\n",
              "      <td>0</td>\n",
              "      <td>0</td>\n",
              "      <td>6640929</td>\n",
              "    </tr>\n",
              "    <tr>\n",
              "      <th>Akron Village</th>\n",
              "      <td>2846</td>\n",
              "      <td>0</td>\n",
              "      <td>0</td>\n",
              "      <td>8099716</td>\n",
              "    </tr>\n",
              "    <tr>\n",
              "      <th>Albany</th>\n",
              "      <td>97956</td>\n",
              "      <td>1</td>\n",
              "      <td>1</td>\n",
              "      <td>9595377936</td>\n",
              "    </tr>\n",
              "    <tr>\n",
              "      <th>Albion Village</th>\n",
              "      <td>6388</td>\n",
              "      <td>0</td>\n",
              "      <td>1</td>\n",
              "      <td>40806544</td>\n",
              "    </tr>\n",
              "  </tbody>\n",
              "</table>\n",
              "</div>"
            ],
            "text/plain": [
              "                          Population  Murder  Robbery  Population_squared\n",
              "City                                                                     \n",
              "Adams Village                   1861       0        0             3463321\n",
              "Addison Town and Village        2577       0        0             6640929\n",
              "Akron Village                   2846       0        0             8099716\n",
              "Albany                         97956       1        1          9595377936\n",
              "Albion Village                  6388       0        1            40806544"
            ]
          },
          "metadata": {
            "tags": []
          },
          "execution_count": 184
        }
      ]
    },
    {
      "metadata": {
        "id": "z2xkHLhe0hBd",
        "colab_type": "text"
      },
      "cell_type": "markdown",
      "source": [
        ">Prepare this data to model with multivariable regression (including data cleaning if necessary) according to this specification:\n",
        "\n",
        "$$ Property Crime = \\alpha + Population + Population^2 + Murder + Robbery$$\n",
        "\n",
        "\n",
        "1.     Murder (continuous) > Murder(categorical)\n",
        "\n",
        "2.    Robbery (continuous) > Robbery(categorical)"
      ]
    },
    {
      "metadata": {
        "id": "fEkbyVN1tRcC",
        "colab_type": "code",
        "colab": {}
      },
      "cell_type": "code",
      "source": [
        "#define a quick function to apply over murder and robbery columns\n",
        "# Turns elements into binary categorical data from continuous\n",
        "\n",
        "def non_zero(x):\n",
        "  if int(x) > 0:\n",
        "    return 1\n",
        "  return 0\n",
        "\n",
        "\n",
        "#Holy shit this is elegant !!\n",
        "# takes murder and robbery columns looks at each element and applys the non_zero function above\n",
        "df.loc[:,'Murder':'Robbery'] = df.loc[:,'Murder':'Robbery'].apply(lambda x: x.apply(non_zero))\n",
        "\n",
        "# Turn Population into integar values (These lines are depretiated and are not needed)\n",
        "#  I like the code as examples of using .loc in combination with apply and lambda\n",
        "#df.loc[:,'Population'] = df.loc[:,'Population'].apply(lambda x: int(x))\n",
        "#df.loc[:,'Population'] = int(df.loc[:,'Population'])\n",
        "\n",
        "\n",
        "#Create Population Squared\n",
        "df['Population_squared'] = df.loc[:,'Population'].apply(lambda x: int(x)**2)"
      ],
      "execution_count": 0,
      "outputs": []
    },
    {
      "metadata": {
        "id": "CPXXF5PsB0eH",
        "colab_type": "code",
        "colab": {}
      },
      "cell_type": "code",
      "source": [
        "df"
      ],
      "execution_count": 0,
      "outputs": []
    }
  ]
}
